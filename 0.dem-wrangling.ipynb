{
 "cells": [
  {
   "cell_type": "markdown",
   "metadata": {},
   "source": [
    "# Data Wrangling4\n",
    "jdjhksjhdhd"
   ]
  },
  {
   "cell_type": "code",
   "execution_count": null,
   "metadata": {},
   "outputs": [],
   "source": [
    "Area of Interest"
   ]
  },
  {
   "cell_type": "markdown",
   "metadata": {},
   "source": [
    "## CopDem\n",
    "Data manipulation to download, reproject/resampling (3031, 32 ) and mosaic for further use in the analysis. Note the Dem will bve further reprojected to match each DEM we are comparing againts"
   ]
  },
  {
   "cell_type": "code",
   "execution_count": null,
   "metadata": {},
   "outputs": [],
   "source": [
    "## code to create a continenta;l raster for CopDEM\n",
    "## Produce 3x tiffs for CopDEM reprojected to 3031 with resolutions 32, 10 and 2m for one area of interest.\n",
    "\n",
    "import os\n",
    "from osgeo import gdal\n",
    "\n",
    "# Define the paths to your input folder and output folder\n",
    "input_folder = '/g/data/yp75/Projects/DEAnt_DEM_Eval/DEMs/forAlex/CopDEM30_AOI_01'\n",
    "output_folder = '/g/data/yp75/Projects/DEAnt_DEM_Eval/DEMs/forAlex/CopDEM30_AOI_01/Output'\n",
    "\n",
    "# Define the target projection (EPSG:3031)\n",
    "target_srs = 'EPSG:3031'\n",
    "\n",
    "# Ensure the output folder exists\n",
    "os.makedirs(output_folder, exist_ok=True)\n",
    "\n",
    "#List all raster files in the input folder\n",
    "raster_files = glob.glob(f'{input_folder}/**/*.tif', recursive=True)\n",
    "\n",
    "##DEM Stitcher Step to output mosaic\n",
    "\n",
    "\n",
    "\n",
    "for raster_file in raster_files:\n",
    "    input_raster_path = os.path.join(input_folder, raster_file)\n",
    "    output_raster_path = os.path.join(output_folder, raster_file)\n",
    "\n",
    "    # Open the input raster\n",
    "    input_raster = gdal.Open(input_raster_path)\n",
    "\n",
    "    # Reproject the raster\n",
    "    # gdal.Warp(output_raster_path, input_raster, dstSRS=target_srs, dstNodata=-9999, options=['-t_srs', target_srs, '-to', 'VERT_DATUM=' + vertical_datum])\n",
    "\n",
    " # Reproject the raster\n",
    "    gdal.Warp(output_raster_path, input_raster, dstSRS=target_srs, dstNodata=-9999, options=['-t_srs', target_srs, '-to'])\n",
    "\n",
    "    # Close the input raster\n",
    "    input_raster = None\n",
    "\n",
    "    print(f\"Reprojected raster saved to {output_raster_path}\")\n",
    "\n",
    "print(\"All rasters have been reprojected.\")\n",
    "\n",
    "\n"
   ]
  },
  {
   "cell_type": "markdown",
   "metadata": {},
   "source": [
    "## REMA 32\n"
   ]
  },
  {
   "cell_type": "code",
   "execution_count": null,
   "metadata": {},
   "outputs": [],
   "source": [
    "#code for Rema 32 "
   ]
  },
  {
   "cell_type": "code",
   "execution_count": null,
   "metadata": {},
   "outputs": [],
   "source": [
    "#code for CopDEM resampling to Reema32 grid"
   ]
  },
  {
   "cell_type": "markdown",
   "metadata": {},
   "source": []
  },
  {
   "cell_type": "code",
   "execution_count": null,
   "metadata": {},
   "outputs": [],
   "source": []
  }
 ],
 "metadata": {
  "language_info": {
   "name": "python"
  }
 },
 "nbformat": 4,
 "nbformat_minor": 2
}
